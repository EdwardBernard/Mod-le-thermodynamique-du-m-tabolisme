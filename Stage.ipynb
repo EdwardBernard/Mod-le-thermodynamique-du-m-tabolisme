{
 "cells": [
  {
   "cell_type": "markdown",
   "metadata": {},
   "source": [
    "# __<font color='red'> Stage : Etude et analyse critique d'un modèle de réponse dynamique de muscle  </font>__"
   ]
  },
  {
   "cell_type": "markdown",
   "metadata": {},
   "source": [
    "---"
   ]
  },
  {
   "cell_type": "markdown",
   "metadata": {},
   "source": [
    "**But : Décrire le modèle du muscle de façon thermodynamique et montrer que celui-ci reprends le modèle de Hill.**"
   ]
  },
  {
   "cell_type": "markdown",
   "metadata": {},
   "source": [
    "---"
   ]
  },
  {
   "cell_type": "markdown",
   "metadata": {},
   "source": [
    "Le muscle peut être représenté par une machine thermodynamique. En effet cette machine thermodynamique est ouverte, et donc échange de la matière et de l'énergie avec l'extérieur. Ces élements sont échangés avec une conductance, et donc peuvent être représentés par leurs inverse, leurs résistances. Cette machine est assez spéciale et fonctionne avec des réservoirs de potentiel chimique, là où, classiquement, nous aurions des réservoirs d'énergie. "
   ]
  },
  {
   "cell_type": "markdown",
   "metadata": {},
   "source": [
    "Il existe donc un flux d'énergie qui arrive depuis le réservoir de potentiel chimique $µ_+$, passe par une résistance $R_+$ traversant une zone de conversion dite **zone métabolique de conversion**, depuis laquelle est délivrée une puissance $P$, donc une intensité, appelée intensité métabolique $i_m$, ce flux deviens un flux d'énergie $\\phi_-$, passe par une résistance $R_-$ puis finit sa course dans le puit, de potentiel chimique $µ_-$. (Voir figure ci-dessous, reprise de l'article)"
   ]
  },
  {
   "cell_type": "markdown",
   "metadata": {},
   "source": [
    "![muscle](figure_meta.png)"
   ]
  },
  {
   "cell_type": "markdown",
   "metadata": {},
   "source": [
    "**Explications du modèle de Hill**"
   ]
  },
  {
   "cell_type": "markdown",
   "metadata": {},
   "source": [
    "En 1938, Archibald Vivian Hill, propose dans son papier un modèle de contraction de muscle, reliant la force de la charge appliquée sur le muscle à la vitesse de contraction de celui-ci. Il apparait une force maximale isométrique générée par le muscle, ainsi que 2 constantes $a$ et $b$.  $$ (F+a)(v+b) = b(F_0 + a)$$\n",
    "+ $F$ est la charge sur le muscle\n",
    "+ $F_0$ est la charge isométrique\n",
    "+ $a$ : coefficient de raccourcissement de la chaleur (coefficient of shortening heat)\n",
    "+ $b : a \\frac{v_0}{F_0}$"
   ]
  },
  {
   "cell_type": "markdown",
   "metadata": {},
   "source": [
    "**Modélisation numérique**"
   ]
  },
  {
   "cell_type": "code",
   "execution_count": 1,
   "metadata": {},
   "outputs": [],
   "source": [
    "import numpy as np\n",
    "import plotly.graph_objects as go\n",
    "from ipywidgets import widgets, interactive\n",
    "import ipywidgets\n",
    "import matplotlib.pyplot as plt"
   ]
  },
  {
   "cell_type": "code",
   "execution_count": 2,
   "metadata": {},
   "outputs": [],
   "source": [
    "# definitions des fonctions\n",
    "\n",
    " #Force en fonction de la vitesse\n",
    "def Fo(v,a,b,F0):\n",
    "    return (b*(F0+a)/(v+b)) - a\n",
    "\n",
    " #Vecteurs\n",
    "def fonc(a,b,F0):\n",
    "    v = np.arange(0,1,0.01)\n",
    "    F = Fo(v,a, b, F0)\n",
    "\n",
    "    #Tracé\n",
    "    fig = go.Figure(\n",
    "        data=[go.Bar(x=v, y=F)],\n",
    "        layout=dict(title=dict(text=\"Force en fonction de la vitesse\")),\n",
    "    )\n",
    "    fig.update_xaxes(title=\"v en m/s\")\n",
    "    fig.update_yaxes(title=\"Force (unités arbitraires)\")\n",
    "    fig.update_layout(xaxis_showgrid=False, yaxis_showgrid=False)\n",
    "    fig.show()"
   ]
  },
  {
   "cell_type": "code",
   "execution_count": 3,
   "metadata": {},
   "outputs": [
    {
     "data": {
      "application/vnd.jupyter.widget-view+json": {
       "model_id": "61c06d5ffd4d43529fd9f3934644df32",
       "version_major": 2,
       "version_minor": 0
      },
      "text/plain": [
       "interactive(children=(FloatSlider(value=1.0, description='a:', max=10.0), FloatSlider(value=1.0, description='…"
      ]
     },
     "metadata": {},
     "output_type": "display_data"
    }
   ],
   "source": [
    "\n",
    "                  #Tracé dynamique : \n",
    "\n",
    "interact = interactive(fonc, a = widgets.FloatSlider(\n",
    "    value=1.0,\n",
    "    min=0,\n",
    "    max=10.0,\n",
    "    step=0.1,\n",
    "    description='a:',\n",
    "), b = widgets.FloatSlider(\n",
    "    value=1.0,\n",
    "    min=0,\n",
    "    max=10.0,\n",
    "    step=0.1,\n",
    "    description='b:',\n",
    "), F0 = widgets.FloatSlider(value=1.0,\n",
    "    min=0,\n",
    "    max=10.0,\n",
    "    step=0.1,\n",
    "    description='$F_0$:'\n",
    ") ) \n",
    "\n",
    "\n",
    "interact"
   ]
  },
  {
   "cell_type": "markdown",
   "metadata": {},
   "source": [
    "**Retour sur le modèle thermodynamique de la conversion d'énergie dans un muscle**"
   ]
  },
  {
   "cell_type": "markdown",
   "metadata": {},
   "source": [
    "La conversion énergie chimique - énergie mécanique se fait selon certains paramètres. Pour plus de facilité nous prenons le cas d'efforts à durée limitée. Nous allons essayer de tracer les flux d'énergie ainsi que la puissance délivrée en fonction de l'intensité métabolique. De part ce fait nous pourrons montrer que ce nouveau modèle reprends le modèle de Hill."
   ]
  },
  {
   "cell_type": "markdown",
   "metadata": {},
   "source": [
    "Les équations pour les flux $\\phi_+$ et $\\phi_-$ sont donnée par : \n",
    "+ $\\phi_+ = \\frac{\\frac{F_{iso} I_m}{\\eta_c}+B}{I_t + I_m}I_t$ \n",
    "+ $\\phi_- = R_m I_m^{2} + \\frac{R_{bf}  I_m^{2} + F_{iso}(\\frac{1}{\\eta_c}-1)I_m + B}{I_t + I_m}$\n",
    "\n",
    "La puissance est donnée par :\n",
    "\n",
    "+ $P_m = [F_{iso} - (R_m + R_H(I_m))I_m]I_m$\n",
    "\n",
    "Avec :\n",
    "+ $R_m$ la résistance métabolique dissipative\n",
    "+ $R_{H}$ la résistance métabolique dépendante de l'intensité : $R_{H} = \\frac{F_{iso} + R_{bf} I_{T}}{I_{T} + I_{M}} $\n",
    "\n",
    "+ $F_{iso}$ force isométrique\n",
    "+ $I_m$ intensité métabolique\n",
    "+ $\\eta_{c}$ rendement\n",
    "+ $I_{t}$ intensité seuil\n",
    "+ $R_{bf}$ resistance feedback\n",
    "+ $B$ Basal\n",
    "\n",
    "\n"
   ]
  },
  {
   "cell_type": "markdown",
   "metadata": {},
   "source": [
    "Représentons ces flux d'énergie ainsi que la puissance"
   ]
  },
  {
   "cell_type": "code",
   "execution_count": 4,
   "metadata": {},
   "outputs": [],
   "source": [
    "import numpy as np\n",
    "import plotly.graph_objects as go\n",
    "from ipywidgets import widgets, interactive\n",
    "import ipywidgets\n",
    "import matplotlib.pyplot as plt"
   ]
  },
  {
   "cell_type": "code",
   "execution_count": 5,
   "metadata": {},
   "outputs": [],
   "source": [
    "#Fonctions: \n",
    "def f(I_m,F,R_fb,I_t,R_m,B,etaC) :\n",
    "    Rh=(F+R_fb*I_t)/(I_t+I_m) #Resistance métabolique dépendante de l'intensité métabolique\n",
    "    fp=(F*I_m/etaC+B)*I_t/(I_t+I_m) # phi+\n",
    "    fm=R_m*I_m*I_m+(R_fb*I_m*I_m+F*(1/etaC-1)*I_m+B)*I_t/(I_t+I_m) # phi-\n",
    "    p=(F-(R_m+Rh)*I_m)*I_m #Puissance délivrée dirant un effort physique\n",
    "    cot=fm/(I_m+1e-10) #Cost of transport\n",
    "    eta = (fp - fm)/fp\n",
    "    return [fp,fm,p,cot,eta]\n",
    "\n",
    "def tracepmp(F,R_fb,I_t,R_m,B,etaC): #fonction qui trace phi+,phi-, puissance\n",
    "    I_m = np.arange(0, 14, 0.1)\n",
    "    plt.figure(figsize= (6,5))\n",
    "    plt.plot(I_m, f(I_m,F,R_fb,I_t,R_m,B,etaC)[0],color = 'b', label = r'$\\phi_+$')  #plot phi+\n",
    "    plt.plot(I_m, f(I_m,F,R_fb,I_t,R_m,B,etaC)[1], color = 'r',label = r'$\\phi_-$')  #plot phi-\n",
    "    plt.plot(I_m, f(I_m,F,R_fb,I_t,R_m,B,etaC)[2], color = 'k',label = 'Power')  #plot puissance\n",
    "    plt.xlabel('Intensité métabolique')\n",
    "    plt.ylabel('Puissance [Unités Arbitraires]')\n",
    "    plt.legend()\n",
    "    plt.show()\n",
    "    \n",
    "def trace_rendement(F,R_fb,I_t,R_m,B,etaC):\n",
    "    I_m = np.arange(0, 14, 0.1)\n",
    "    fp = f(I_m,F,R_fb,I_t,R_m,B,etaC)[0]\n",
    "    fm = f(I_m,F,R_fb,I_t,R_m,B,etaC)[1]\n",
    "    eta = f(I_m,F,R_fb,I_t,R_m,B,etaC)[-1]\n",
    "    P = (fp-fm)\n",
    "    \n",
    "    max_eta = eta.max(), np.where(eta == eta.max())[0][0]\n",
    "    max_P = P.max(), np.where(P == P.max())[0][0]\n",
    "    \n",
    "    plt.figure(figsize = (6,6))\n",
    "    \n",
    "    plt.subplot(211)\n",
    "    plt.plot(I_m, eta, color = \"r\")\n",
    "    plt.xlabel(r'$I_m$')\n",
    "    plt.ylabel(\"$\\eta$\")\n",
    "    \n",
    "    \n",
    "    plt.subplot(212)\n",
    "    plt.plot(P,eta, color = \"b\")\n",
    "    plt.scatter(P[max_eta[1]],max_eta[0],label='Rendement maximal', color='k')\n",
    "    plt.scatter(max_P[0], eta[max_P[1]],label ='Puissance maximale', color='r')\n",
    "    plt.xlabel(\"Puissance [unités arbitraires]\")\n",
    "    plt.ylabel(\"$\\eta$\")\n",
    "    plt.legend()\n",
    "    plt.show()"
   ]
  },
  {
   "cell_type": "code",
   "execution_count": 6,
   "metadata": {},
   "outputs": [
    {
     "data": {
      "application/vnd.jupyter.widget-view+json": {
       "model_id": "79eaab9308374b5a8b60bf84ab20a50b",
       "version_major": 2,
       "version_minor": 0
      },
      "text/plain": [
       "interactive(children=(FloatSlider(value=14.7, description='$F_{iso}$', min=0.1), FloatSlider(value=0.1, descri…"
      ]
     },
     "metadata": {},
     "output_type": "display_data"
    }
   ],
   "source": [
    "interact = interactive(tracepmp,\n",
    "    F = widgets.FloatSlider(                     #Force isométrique\n",
    "    value=14.70,\n",
    "    min=0.1,\n",
    "    max=100.0,\n",
    "    step=0.1,\n",
    "    description=\"$F_{iso}$\"\n",
    "),\n",
    "    R_fb= widgets.FloatSlider(                   #Resistance de FeedBack\n",
    "    value=0.10,\n",
    "    min=0.1,\n",
    "    max=10.0,\n",
    "    step=0.1,\n",
    "    description=\"$R_{fb}$\"\n",
    "), \n",
    "    I_t= widgets.FloatSlider(                    # Itensité métabolique seuil (Treshold intensity)\n",
    "    value=10.0,\n",
    "    min=0.1,\n",
    "    max=100.0,\n",
    "    step=0.1,\n",
    "    description=\"$I_T$\"\n",
    "),\n",
    "    \n",
    "    R_m= widgets.FloatSlider(                    # Résistance métabolique dissipative\n",
    "    value=0.40,\n",
    "    min=0.1,\n",
    "    max=100.0,\n",
    "    step=0.1,\n",
    "    description=\"$R_M$\"\n",
    "),  \n",
    "    B= widgets.FloatSlider(                      # Basal\n",
    "    value=3.0,\n",
    "    min=0.1,\n",
    "    max=100.0,\n",
    "    step=0.1,\n",
    "    description=\"$B$\"\n",
    "),                   \n",
    "    etaC= widgets.FloatSlider(                   # Rendement\n",
    "    value=0.84,\n",
    "    min=0.0001,\n",
    "    max=1,\n",
    "    step=0.0001,\n",
    "    description=\"$\\eta_C$\"\n",
    ") ) \n",
    "\n",
    "\n",
    "interact"
   ]
  },
  {
   "cell_type": "code",
   "execution_count": 7,
   "metadata": {},
   "outputs": [
    {
     "data": {
      "application/vnd.jupyter.widget-view+json": {
       "model_id": "24b4ef9cc35d4e42ae3c63832fcbe6d8",
       "version_major": 2,
       "version_minor": 0
      },
      "text/plain": [
       "interactive(children=(FloatSlider(value=14.7, description='$F_{iso}$', min=0.1), FloatSlider(value=0.1, descri…"
      ]
     },
     "metadata": {},
     "output_type": "display_data"
    }
   ],
   "source": [
    "interact2 = interactive(trace_rendement,\n",
    "    F = widgets.FloatSlider(                        #Force isométrique\n",
    "    value=14.70,\n",
    "    min=0.1,\n",
    "    max=100.0,\n",
    "    step=0.1,\n",
    "    description=\"$F_{iso}$\"\n",
    "),\n",
    "    R_fb= widgets.FloatSlider(                      #Resistance de FeedBack\n",
    "    value=0.10,\n",
    "    min=0.1,\n",
    "    max=100.0,\n",
    "    step=0.1,\n",
    "    description=\"$R_{fb}$\"\n",
    "), \n",
    "    I_t= widgets.FloatSlider(                       # Itensité métabolique seuil (Treshold intensity)\n",
    "    value=10.0,\n",
    "    min=0.1,\n",
    "    max=100.0,\n",
    "    step=0.1,\n",
    "    description=\"$I_T$\"\n",
    "), \n",
    "    R_m= widgets.FloatSlider(                       # Résistance métabolique dissipative\n",
    "    value=0.40,\n",
    "    min=0.1,\n",
    "    max=3.0,\n",
    "    step=0.1,\n",
    "    description=\"$R_M$\"\n",
    "),  \n",
    "    B= widgets.FloatSlider(                         # Basal\n",
    "    value=3.0,\n",
    "    min=0.1,\n",
    "    max=100.0,\n",
    "    step=0.1,\n",
    "    description=\"$B$\"\n",
    "),                   \n",
    "    etaC= widgets.FloatSlider(                      # Rendement\n",
    "    value=0.84,\n",
    "    min=0.0001,\n",
    "    max=1,\n",
    "    step=0.0001,\n",
    "    description=\"$\\eta_C$\"\n",
    ") ) \n",
    "\n",
    "\n",
    "interact2"
   ]
  },
  {
   "cell_type": "markdown",
   "metadata": {},
   "source": [
    "**Tracé de la force à partir de la puissance**\\\n",
    "Avec la courbe de puissance, nous pouvons en tirer la force métabolique par la relation $P_{m} = F_{M}I_{M}$.\\\n",
    "On peux donc tracer la force en fonction de l'intensité métabolique."
   ]
  },
  {
   "cell_type": "code",
   "execution_count": 8,
   "metadata": {},
   "outputs": [],
   "source": [
    "import numpy as np\n",
    "import plotly.graph_objects as go\n",
    "from ipywidgets import widgets, interactive\n",
    "import ipywidgets\n",
    "import matplotlib.pyplot as plt"
   ]
  },
  {
   "cell_type": "code",
   "execution_count": 9,
   "metadata": {},
   "outputs": [],
   "source": [
    "#Tracé de la force à partir de la puissance:\n",
    "def forcefrompower(I_m,F,R_fb,I_t,R_m,B,etaC) :\n",
    "    Rh=(F+R_fb*I_t)/(I_t+I_m) #Resistance métabolique dépendante de l'intensité métabolique\n",
    "    p=(F-(R_m+Rh)*I_m)*I_m #Puissance délivrée dirant un effort physique\n",
    "    FFP = p/(I_m+1e-10) #FFP : Force From Power, puissance divisée par l'intensité métabolique\n",
    "    return FFP\n",
    "\n",
    "def traceFFP(F,R_fb,I_t,R_m,B,etaC):\n",
    "    I_m = np.arange(0, 14, 0.1)\n",
    "    FFP = forcefrompower(I_m,F,R_fb,I_t,R_m,B,etaC)\n",
    "    fig = go.Figure(\n",
    "        data=[go.Bar(x=I_m, y=FFP)],\n",
    "        layout=dict(title=dict(text=\"Force en fonction de l'intensité métabolique\")),\n",
    "    )\n",
    "    fig.update_xaxes(title=r\"$I_{m} \\propto v$\")\n",
    "    fig.update_yaxes(title=\"Force (unités arbitraires)\")\n",
    "    fig.update_layout(xaxis_showgrid=False, yaxis_showgrid=False)\n",
    "    fig.show()"
   ]
  },
  {
   "cell_type": "code",
   "execution_count": 10,
   "metadata": {},
   "outputs": [
    {
     "data": {
      "application/vnd.jupyter.widget-view+json": {
       "model_id": "1cc13e0d490a4f1883be1cfe0a6b2e76",
       "version_major": 2,
       "version_minor": 0
      },
      "text/plain": [
       "interactive(children=(FloatSlider(value=45.0, description='$F_{iso}$', min=0.1), FloatSlider(value=0.1, descri…"
      ]
     },
     "metadata": {},
     "output_type": "display_data"
    }
   ],
   "source": [
    "interactforce = interactive(traceFFP,\n",
    "    F = widgets.FloatSlider(                        #Force isométrique\n",
    "    value=45.0,\n",
    "    min=0.1,\n",
    "    max=100.0,\n",
    "    step=0.1,\n",
    "    description=\"$F_{iso}$\"\n",
    "),\n",
    "    R_fb= widgets.FloatSlider(                      #Resistance de FeedBack\n",
    "    value=0.10,\n",
    "    min=0.1,\n",
    "    max=100.0,\n",
    "    step=0.1,\n",
    "    description=\"$R_{fb}$\"\n",
    "), \n",
    "    I_t= widgets.FloatSlider(                       # Itensité métabolique seuil (Treshold intensity)\n",
    "    value=10.0,\n",
    "    min=0.1,\n",
    "    max=100.0,\n",
    "    step=0.1,\n",
    "    description=\"$I_T$\"\n",
    "), \n",
    "    R_m= widgets.FloatSlider(                       # Résistance métabolique dissipative\n",
    "    value=1.30,\n",
    "    min=0.1,\n",
    "    max=3.0,\n",
    "    step=0.1,\n",
    "    description=\"$R_M$\"\n",
    "),  \n",
    "    B= widgets.FloatSlider(                         # Basal\n",
    "    value=16.0,\n",
    "    min=0.1,\n",
    "    max=100.0,\n",
    "    step=0.1,\n",
    "    description=\"$B$\"\n",
    "),                   \n",
    "    etaC= widgets.FloatSlider(                      # Rendement\n",
    "    value=0.84,\n",
    "    min=0.0001,\n",
    "    max=1,\n",
    "    step=0.0001,\n",
    "    description=\"$\\eta_C$\"\n",
    ") ) \n",
    "\n",
    "\n",
    "interactforce"
   ]
  }
 ],
 "metadata": {
  "kernelspec": {
   "display_name": "Python 3",
   "language": "python",
   "name": "python3"
  },
  "language_info": {
   "codemirror_mode": {
    "name": "ipython",
    "version": 3
   },
   "file_extension": ".py",
   "mimetype": "text/x-python",
   "name": "python",
   "nbconvert_exporter": "python",
   "pygments_lexer": "ipython3",
   "version": "3.7.3"
  }
 },
 "nbformat": 4,
 "nbformat_minor": 4
}
